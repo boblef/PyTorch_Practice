{
 "cells": [
  {
   "cell_type": "code",
   "execution_count": 8,
   "metadata": {},
   "outputs": [],
   "source": [
    "import torch\n",
    "import torchvision\n",
    "import torchvision.transforms as transforms\n",
    "import torch.nn as nn\n",
    "import torch.nn.functional as F\n",
    "import torch.optim as optim\n",
    "import numpy as np"
   ]
  },
  {
   "cell_type": "code",
   "execution_count": 4,
   "metadata": {},
   "outputs": [],
   "source": [
    "BATCH_SIZE = 64\n",
    "EPOCHS = 3"
   ]
  },
  {
   "cell_type": "code",
   "execution_count": 3,
   "metadata": {},
   "outputs": [],
   "source": [
    "transform = transforms.Compose(\n",
    "    [transforms.ToTensor(),\n",
    "    transforms.Normalize((0.5, ), (0.5, ))])"
   ]
  },
  {
   "cell_type": "code",
   "execution_count": 5,
   "metadata": {},
   "outputs": [
    {
     "name": "stderr",
     "output_type": "stream",
     "text": [
      "\r",
      "0.00B [00:00, ?B/s]"
     ]
    },
    {
     "name": "stdout",
     "output_type": "stream",
     "text": [
      "Downloading http://yann.lecun.com/exdb/mnist/train-images-idx3-ubyte.gz to ./data/MNIST/raw/train-images-idx3-ubyte.gz\n"
     ]
    },
    {
     "name": "stderr",
     "output_type": "stream",
     "text": [
      " 99%|█████████▉| 9.84M/9.91M [00:17<00:00, 590kB/s]"
     ]
    },
    {
     "name": "stdout",
     "output_type": "stream",
     "text": [
      "Extracting ./data/MNIST/raw/train-images-idx3-ubyte.gz\n"
     ]
    },
    {
     "name": "stderr",
     "output_type": "stream",
     "text": [
      "\n",
      "0.00B [00:00, ?B/s]\u001b[A\n",
      "  0%|          | 0.00/28.9k [00:00<?, ?B/s]\u001b[A"
     ]
    },
    {
     "name": "stdout",
     "output_type": "stream",
     "text": [
      "Downloading http://yann.lecun.com/exdb/mnist/train-labels-idx1-ubyte.gz to ./data/MNIST/raw/train-labels-idx1-ubyte.gz\n"
     ]
    },
    {
     "name": "stderr",
     "output_type": "stream",
     "text": [
      "\n",
      "32.8kB [00:00, 138kB/s]                    \u001b[A\n",
      "0.00B [00:00, ?B/s]\u001b[A\n",
      "  0%|          | 0.00/1.65M [00:00<?, ?B/s]\u001b[A"
     ]
    },
    {
     "name": "stdout",
     "output_type": "stream",
     "text": [
      "Extracting ./data/MNIST/raw/train-labels-idx1-ubyte.gz\n",
      "Downloading http://yann.lecun.com/exdb/mnist/t10k-images-idx3-ubyte.gz to ./data/MNIST/raw/t10k-images-idx3-ubyte.gz\n"
     ]
    },
    {
     "name": "stderr",
     "output_type": "stream",
     "text": [
      "\n",
      "  2%|▏         | 32.8k/1.65M [00:00<00:05, 315kB/s]\u001b[A\n",
      "  3%|▎         | 49.2k/1.65M [00:00<00:09, 164kB/s]\u001b[A\n",
      "  7%|▋         | 115k/1.65M [00:00<00:08, 180kB/s] \u001b[A\n",
      " 12%|█▏        | 197k/1.65M [00:01<00:07, 201kB/s]\u001b[A\n",
      " 18%|█▊        | 295k/1.65M [00:01<00:05, 247kB/s]\u001b[A\n",
      " 23%|██▎       | 377k/1.65M [00:01<00:04, 289kB/s]\u001b[A\n",
      " 28%|██▊       | 467k/1.65M [00:01<00:03, 333kB/s]\u001b[A\n",
      " 34%|███▍      | 557k/1.65M [00:01<00:02, 370kB/s]\u001b[A\n",
      " 40%|███▉      | 655k/1.65M [00:01<00:02, 407kB/s]\u001b[A\n",
      " 45%|████▍     | 737k/1.65M [00:02<00:02, 434kB/s]\u001b[A\n",
      " 51%|█████     | 836k/1.65M [00:02<00:01, 459kB/s]\u001b[A\n",
      " 57%|█████▋    | 934k/1.65M [00:02<00:01, 482kB/s]\u001b[A\n",
      " 63%|██████▎   | 1.04M/1.65M [00:02<00:01, 508kB/s]\u001b[A\n",
      " 70%|██████▉   | 1.15M/1.65M [00:02<00:00, 528kB/s]\u001b[A\n",
      " 76%|███████▌  | 1.25M/1.65M [00:03<00:00, 529kB/s]\u001b[A\n",
      " 79%|███████▉  | 1.30M/1.65M [00:03<00:00, 477kB/s]\u001b[A\n",
      " 87%|████████▋ | 1.44M/1.65M [00:03<00:00, 538kB/s]\u001b[A\n",
      " 91%|█████████▏| 1.51M/1.65M [00:03<00:00, 446kB/s]\u001b[A\n",
      " 99%|█████████▉| 1.64M/1.65M [00:03<00:00, 518kB/s]\u001b[A\n",
      "\n",
      "0.00B [00:00, ?B/s]\u001b[A\u001b[A"
     ]
    },
    {
     "name": "stdout",
     "output_type": "stream",
     "text": [
      "Extracting ./data/MNIST/raw/t10k-images-idx3-ubyte.gz\n",
      "Downloading http://yann.lecun.com/exdb/mnist/t10k-labels-idx1-ubyte.gz to ./data/MNIST/raw/t10k-labels-idx1-ubyte.gz\n"
     ]
    },
    {
     "name": "stderr",
     "output_type": "stream",
     "text": [
      "\n",
      "\n",
      "  0%|          | 0.00/4.54k [00:00<?, ?B/s]\u001b[A\u001b[A\n",
      "\n",
      "8.19kB [00:00, 18.4kB/s]                   \u001b[A\u001b[A"
     ]
    },
    {
     "name": "stdout",
     "output_type": "stream",
     "text": [
      "Extracting ./data/MNIST/raw/t10k-labels-idx1-ubyte.gz\n",
      "Processing...\n",
      "Done!\n"
     ]
    },
    {
     "name": "stderr",
     "output_type": "stream",
     "text": [
      "9.92MB [00:30, 590kB/s]                            \n",
      "1.65MB [00:22, 518kB/s]                            \u001b[A"
     ]
    }
   ],
   "source": [
    "trainset = torchvision.datasets.MNIST(root = './data',\n",
    "                                                        train = True,\n",
    "                                                        download = True,\n",
    "                                                        transform = transform)\n",
    "\n",
    "trainloader = torch.utils.data.DataLoader(trainset,\n",
    "                                                             batch_size = BATCH_SIZE,\n",
    "                                                             shuffle = True,\n",
    "                                                             num_workers = 2)"
   ]
  },
  {
   "cell_type": "code",
   "execution_count": 7,
   "metadata": {},
   "outputs": [],
   "source": [
    "testset = torchvision.datasets.MNIST(root = './data',\n",
    "                                                      train = False,\n",
    "                                                       download = True,\n",
    "                                                        transform = transform)\n",
    "\n",
    "testloader = torch.utils.data.DataLoader(testset, \n",
    "                                                            batch_size = BATCH_SIZE,\n",
    "                                                            shuffle = False,\n",
    "                                                            num_workers = 2)"
   ]
  },
  {
   "cell_type": "code",
   "execution_count": 10,
   "metadata": {},
   "outputs": [],
   "source": [
    "class Net(nn.Module):\n",
    "    def __init__(self):\n",
    "        super(Net, self).__init__()\n",
    "        self.conv1 = nn.Conv2d(in_channels = 1, \n",
    "                                            out_channels = 32, \n",
    "                                            kernel_size = 3,\n",
    "                                            stride = 1) \n",
    "        \n",
    "        self.conv2 = nn.Conv2d(in_channels = 32,\n",
    "                                            out_channels = 64,\n",
    "                                            kernel_size = 3,\n",
    "                                            stride = 1) \n",
    "        \n",
    "        self.pool = nn.MaxPool2d(kernel_size = 2, \n",
    "                                               stride = 2) \n",
    "        \n",
    "        self.dropout1 = nn.Dropout2d(p = 0.5)\n",
    "        self.fc1 = nn.Linear(in_features = 12 * 12 * 64, out_features = 128)\n",
    "        self.dropout2 = nn.Dropout2d(p = 0.5)\n",
    "        self.fc2 = nn.Linear(128, 10) # There are 10 classes [0,1,2,3,4,5,6,7,8,9]\n",
    "        \n",
    "    \n",
    "    def forward(self, x):\n",
    "        x = F.relu(self.conv1(x)) #(28, 28, 1) -> (26, 26, 32)\n",
    "        x = self.pool(F.relu(self.conv2(x))) #(26, 26, 32) -> (24, 24, 64) -> (12, 12, 64)\n",
    "        x = self.dropout1(x)\n",
    "        x = x.view(-1, 12 * 12 * 64) #reshape from (12, 12, 64) to (1, 9216)\n",
    "        x = F.relu(self.fc1(x))\n",
    "        x = self.dropout2(x)\n",
    "        x = self.fc2(x)\n",
    "        return x"
   ]
  },
  {
   "cell_type": "code",
   "execution_count": 11,
   "metadata": {},
   "outputs": [],
   "source": [
    "net = Net()\n",
    "criterion = nn.CrossEntropyLoss()\n",
    "optimizer = optim.SGD(net.parameters(), lr = 0.001)"
   ]
  },
  {
   "cell_type": "markdown",
   "metadata": {},
   "source": [
    "# Train"
   ]
  },
  {
   "cell_type": "code",
   "execution_count": 17,
   "metadata": {},
   "outputs": [
    {
     "name": "stdout",
     "output_type": "stream",
     "text": [
      "[1,   100] loss: 2.198\n",
      "[1,   200] loss: 2.159\n",
      "[1,   300] loss: 2.110\n",
      "[1,   400] loss: 2.034\n",
      "[1,   500] loss: 1.958\n",
      "[1,   600] loss: 1.843\n",
      "[1,   700] loss: 1.722\n",
      "[1,   800] loss: 1.586\n",
      "[1,   900] loss: 1.426\n",
      "[2,   100] loss: 1.249\n",
      "[2,   200] loss: 1.138\n",
      "[2,   300] loss: 1.031\n",
      "[2,   400] loss: 0.966\n",
      "[2,   500] loss: 0.905\n",
      "[2,   600] loss: 0.846\n",
      "[2,   700] loss: 0.794\n",
      "[2,   800] loss: 0.780\n",
      "[2,   900] loss: 0.738\n",
      "[3,   100] loss: 0.680\n",
      "[3,   200] loss: 0.671\n",
      "[3,   300] loss: 0.679\n",
      "[3,   400] loss: 0.644\n",
      "[3,   500] loss: 0.638\n",
      "[3,   600] loss: 0.628\n",
      "[3,   700] loss: 0.618\n",
      "[3,   800] loss: 0.604\n",
      "[3,   900] loss: 0.552\n",
      "Finished Training\n"
     ]
    }
   ],
   "source": [
    "for epoch in range(EPOCHS):\n",
    "    running_loss = 0.0\n",
    "    for i, (inputs, labels) in enumerate(trainloader, 0):\n",
    "        optimizer.zero_grad()\n",
    "        \n",
    "        #forward + backward + optimize\n",
    "        outputs = net(inputs)\n",
    "        loss = criterion(outputs, labels)\n",
    "        loss.backward()\n",
    "        optimizer.step()\n",
    "        \n",
    "        #print statistics\n",
    "        running_loss += loss.item()\n",
    "        if i % 100 == 99:\n",
    "            print('[%d, %5d] loss: %.3f' %\n",
    "                 (epoch + 1, i +1, running_loss / 100))\n",
    "            running_loss = 0.0\n",
    "print(\"Finished Training\")"
   ]
  },
  {
   "cell_type": "code",
   "execution_count": 18,
   "metadata": {},
   "outputs": [
    {
     "name": "stdout",
     "output_type": "stream",
     "text": [
      "Accuracy of the network: 84 %\n"
     ]
    }
   ],
   "source": [
    "correct = 0\n",
    "total = 0\n",
    "\n",
    "with torch.no_grad():\n",
    "    for (images, labels) in testloader:\n",
    "        outputs = net(images)\n",
    "        _, predicted = torch.max(outputs.data, 1)\n",
    "        total += labels.size(0)\n",
    "        correct += (predicted == labels).sum().item()\n",
    "        \n",
    "\n",
    "print('Accuracy of the network: %d %%' % (\n",
    "    100 * correct / total))"
   ]
  },
  {
   "cell_type": "code",
   "execution_count": null,
   "metadata": {},
   "outputs": [],
   "source": []
  },
  {
   "cell_type": "code",
   "execution_count": null,
   "metadata": {},
   "outputs": [],
   "source": []
  },
  {
   "cell_type": "code",
   "execution_count": null,
   "metadata": {},
   "outputs": [],
   "source": []
  }
 ],
 "metadata": {
  "kernelspec": {
   "display_name": "Python 3",
   "language": "python",
   "name": "python3"
  },
  "language_info": {
   "codemirror_mode": {
    "name": "ipython",
    "version": 3
   },
   "file_extension": ".py",
   "mimetype": "text/x-python",
   "name": "python",
   "nbconvert_exporter": "python",
   "pygments_lexer": "ipython3",
   "version": "3.6.4"
  }
 },
 "nbformat": 4,
 "nbformat_minor": 2
}
