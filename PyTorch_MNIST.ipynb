{
 "cells": [
  {
   "cell_type": "code",
   "execution_count": 1,
   "metadata": {},
   "outputs": [],
   "source": [
    "import torch\n",
    "import torchvision\n",
    "import torchvision.transforms as transforms\n",
    "import torch.nn as nn\n",
    "import torch.nn.functional as F\n",
    "import torch.optim as optim\n",
    "import numpy as np"
   ]
  },
  {
   "cell_type": "code",
   "execution_count": 2,
   "metadata": {},
   "outputs": [],
   "source": [
    "BATCH_SIZE = 128\n",
    "EPOCHS = 10"
   ]
  },
  {
   "cell_type": "code",
   "execution_count": 3,
   "metadata": {},
   "outputs": [],
   "source": [
    "transform = transforms.Compose(\n",
    "    [transforms.ToTensor(),\n",
    "    transforms.Normalize((0.5, ), (0.5, ))])"
   ]
  },
  {
   "cell_type": "markdown",
   "metadata": {},
   "source": [
    "# Import MNIST dataset"
   ]
  },
  {
   "cell_type": "code",
   "execution_count": 4,
   "metadata": {},
   "outputs": [],
   "source": [
    "trainset = torchvision.datasets.MNIST(root = './data',\n",
    "                                                        train = True,\n",
    "                                                        download = True,\n",
    "                                                        transform = transform)\n",
    "\n",
    "trainloader = torch.utils.data.DataLoader(trainset,\n",
    "                                                             batch_size = BATCH_SIZE,\n",
    "                                                             shuffle = True,\n",
    "                                                             num_workers = 2)"
   ]
  },
  {
   "cell_type": "code",
   "execution_count": 5,
   "metadata": {},
   "outputs": [],
   "source": [
    "testset = torchvision.datasets.MNIST(root = './data',\n",
    "                                                      train = False,\n",
    "                                                       download = True,\n",
    "                                                        transform = transform)\n",
    "\n",
    "testloader = torch.utils.data.DataLoader(testset, \n",
    "                                                            batch_size = BATCH_SIZE,\n",
    "                                                            shuffle = False,\n",
    "                                                            num_workers = 2)"
   ]
  },
  {
   "cell_type": "code",
   "execution_count": 6,
   "metadata": {},
   "outputs": [],
   "source": [
    "class Net(nn.Module):\n",
    "    def __init__(self):\n",
    "        super(Net, self).__init__()\n",
    "        self.conv1 = nn.Conv2d(in_channels = 1, \n",
    "                                            out_channels = 32, \n",
    "                                            kernel_size = 3,\n",
    "                                            stride = 1) \n",
    "        \n",
    "        self.conv2 = nn.Conv2d(in_channels = 32,\n",
    "                                            out_channels = 64,\n",
    "                                            kernel_size = 3,\n",
    "                                            stride = 1) \n",
    "        \n",
    "        self.pool = nn.MaxPool2d(kernel_size = 2, \n",
    "                                               stride = 2) \n",
    "        \n",
    "        self.dropout1 = nn.Dropout2d(p = 0.5)\n",
    "        self.fc1 = nn.Linear(in_features = 12 * 12 * 64, out_features = 128)\n",
    "        self.dropout2 = nn.Dropout2d(p = 0.5)\n",
    "        self.fc2 = nn.Linear(128, 10) # There are 10 classes [0,1,2,3,4,5,6,7,8,9]\n",
    "        \n",
    "    \n",
    "    def forward(self, x):\n",
    "        x = F.relu(self.conv1(x)) #(28, 28, 1) -> (26, 26, 32)\n",
    "        x = self.pool(F.relu(self.conv2(x))) #(26, 26, 32) -> (24, 24, 64) -> (12, 12, 64)\n",
    "        x = self.dropout1(x)\n",
    "        x = x.view(-1, 12 * 12 * 64) #reshape from (12, 12, 64) to (1, 9216)\n",
    "        x = F.relu(self.fc1(x))\n",
    "        x = self.dropout2(x)\n",
    "        x = self.fc2(x)\n",
    "        return x"
   ]
  },
  {
   "cell_type": "code",
   "execution_count": 7,
   "metadata": {},
   "outputs": [],
   "source": [
    "net = Net()\n",
    "criterion = nn.CrossEntropyLoss()\n",
    "optimizer = optim.SGD(net.parameters(), lr = 0.001)"
   ]
  },
  {
   "cell_type": "markdown",
   "metadata": {},
   "source": [
    "# Train"
   ]
  },
  {
   "cell_type": "code",
   "execution_count": 8,
   "metadata": {
    "scrolled": true
   },
   "outputs": [
    {
     "name": "stdout",
     "output_type": "stream",
     "text": [
      "[1,   100] loss: 2.300\n",
      "[1,   200] loss: 2.281\n",
      "[1,   300] loss: 2.264\n",
      "[1,   400] loss: 2.240\n",
      "[2,   100] loss: 2.184\n",
      "[2,   200] loss: 2.135\n",
      "[2,   300] loss: 2.080\n",
      "[2,   400] loss: 2.006\n",
      "[3,   100] loss: 1.840\n",
      "[3,   200] loss: 1.717\n",
      "[3,   300] loss: 1.587\n",
      "[3,   400] loss: 1.466\n",
      "[4,   100] loss: 1.262\n",
      "[4,   200] loss: 1.168\n",
      "[4,   300] loss: 1.073\n",
      "[4,   400] loss: 0.984\n",
      "[5,   100] loss: 0.899\n",
      "[5,   200] loss: 0.836\n",
      "[5,   300] loss: 0.798\n",
      "[5,   400] loss: 0.757\n",
      "[6,   100] loss: 0.711\n",
      "[6,   200] loss: 0.692\n",
      "[6,   300] loss: 0.673\n",
      "[6,   400] loss: 0.648\n",
      "[7,   100] loss: 0.622\n",
      "[7,   200] loss: 0.615\n",
      "[7,   300] loss: 0.592\n",
      "[7,   400] loss: 0.572\n",
      "[8,   100] loss: 0.564\n",
      "[8,   200] loss: 0.556\n",
      "[8,   300] loss: 0.541\n",
      "[8,   400] loss: 0.539\n",
      "[9,   100] loss: 0.523\n",
      "[9,   200] loss: 0.519\n",
      "[9,   300] loss: 0.497\n",
      "[9,   400] loss: 0.496\n",
      "[10,   100] loss: 0.479\n",
      "[10,   200] loss: 0.491\n",
      "[10,   300] loss: 0.472\n",
      "[10,   400] loss: 0.475\n",
      "Finished Training\n"
     ]
    }
   ],
   "source": [
    "for epoch in range(EPOCHS):\n",
    "    running_loss = 0.0\n",
    "    for i, (inputs, labels) in enumerate(trainloader, 0):\n",
    "        optimizer.zero_grad()\n",
    "        \n",
    "        #forward + backward + optimize\n",
    "        outputs = net(inputs)\n",
    "        loss = criterion(outputs, labels)\n",
    "        loss.backward()\n",
    "        optimizer.step()\n",
    "        \n",
    "        #print statistics\n",
    "        running_loss += loss.item()\n",
    "        if i % 100 == 99:\n",
    "            print('[%d, %5d] loss: %.3f' %\n",
    "                 (epoch + 1, i +1, running_loss / 100))\n",
    "            running_loss = 0.0\n",
    "print(\"Finished Training\")"
   ]
  },
  {
   "cell_type": "code",
   "execution_count": 9,
   "metadata": {},
   "outputs": [
    {
     "name": "stdout",
     "output_type": "stream",
     "text": [
      "Accuracy of the network: 87 %\n"
     ]
    }
   ],
   "source": [
    "correct = 0\n",
    "total = 0\n",
    "\n",
    "with torch.no_grad():\n",
    "    for (images, labels) in testloader:\n",
    "        outputs = net(images)\n",
    "        _, predicted = torch.max(outputs.data, 1)\n",
    "        total += labels.size(0)\n",
    "        correct += (predicted == labels).sum().item()\n",
    "        \n",
    "\n",
    "print('Accuracy of the network: %d %%' % (\n",
    "    100 * correct / total))"
   ]
  }
 ],
 "metadata": {
  "kernelspec": {
   "display_name": "Python 3",
   "language": "python",
   "name": "python3"
  },
  "language_info": {
   "codemirror_mode": {
    "name": "ipython",
    "version": 3
   },
   "file_extension": ".py",
   "mimetype": "text/x-python",
   "name": "python",
   "nbconvert_exporter": "python",
   "pygments_lexer": "ipython3",
   "version": "3.6.4"
  }
 },
 "nbformat": 4,
 "nbformat_minor": 2
}
